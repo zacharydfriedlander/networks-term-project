{
 "cells": [
  {
   "cell_type": "code",
   "execution_count": 11,
   "metadata": {
    "collapsed": false
   },
   "outputs": [],
   "source": [
    "import matplotlib.pyplot as plt\n",
    "import pickle\n",
    "import yaml\n",
    "% matplotlib inline"
   ]
  },
  {
   "cell_type": "code",
   "execution_count": 12,
   "metadata": {
    "collapsed": true
   },
   "outputs": [],
   "source": [
    "# Point this towards the output specified for attack_known_networks.py\n",
    "PICKLEJAR=\"picklejar/\""
   ]
  },
  {
   "cell_type": "code",
   "execution_count": 13,
   "metadata": {
    "collapsed": false
   },
   "outputs": [],
   "source": [
    "def plot_network_comparisons(network_file):\n",
    "    \"\"\"\n",
    "    Given a YAML config file written using the attack_comparison.compare_to_random_networks function,\n",
    "    Read in the data from the pickle files of the networks in the file and plot the results of the attacks\n",
    "    \"\"\"\n",
    "    \n",
    "    nets = open(network_file, 'r')\n",
    "    \n",
    "    for network in yaml.load_all(nets):\n",
    "        pfile = PICKLEJAR + network[\"name\"]+\".pickle\"\n",
    "    \n",
    "        fi = open(pfile, 'r')\n",
    "       \n",
    "        fractions = pickle.load(fi)\n",
    "       \n",
    "        net_results = pickle.load(fi)\n",
    "       \n",
    "        er_results = pickle.load(fi)\n",
    "       \n",
    "        cfg_results = pickle.load(fi)\n",
    "       \n",
    "        f, (ax1, ax2, ax3) = plt.subplots(3,1, figsize=(15,30))\n",
    "        \n",
    "        attack_types = [\"Random Attack\", \"Targeted Attack\", \"Random-Neighbor Attack\", \"Targeted-Neighbor Attack\"]\n",
    "        colors = [\"r\", \"g\", \"b\", \"y\"]\n",
    "        markers= ['o', 'v', 'x', 's']\n",
    "        \n",
    "        f.suptitle(\"Network Comparisons: \"+network[\"name\"], fontsize=24)\n",
    "              \n",
    "        ax1.set_xlim(0, 1)\n",
    "        ax1.set_ylim(0, 1)\n",
    "    \n",
    "        ax1.set_title(\"Original Network\", fontsize=20)\n",
    "        ax1.set_xlabel(\"Fraction of Nodes Removed\")\n",
    "        ax1.set_ylabel(\"|S1|/N\")\n",
    "        \n",
    "        for i, r in enumerate(net_results):\n",
    "            ax1.scatter(fractions, r, c=colors[i], marker=markers[i])\n",
    "            \n",
    "        ax1.legend(attack_types)\n",
    "       \n",
    "       \n",
    "        ax2.set_xlim(0, 1)\n",
    "        ax2.set_ylim(0, 1)\n",
    "       \n",
    "        ax2.set_title(\"Erdos-Renyi Network\", fontsize=20)\n",
    "        ax2.set_xlabel(\"Fraction of Nodes Removed\")\n",
    "        ax2.set_ylabel(\"|S1|/N\")\n",
    "       \n",
    "        for i, r in enumerate(er_results):\n",
    "            ax2.scatter(fractions, r, c=colors[i], marker=markers[i])\n",
    "       \n",
    "        ax2.legend(attack_types)\n",
    "       \n",
    "       \n",
    "        ax3.set_xlim(0, 1)\n",
    "        ax3.set_ylim(0, 1)    \n",
    "       \n",
    "        ax3.set_title(\"Configuration Model\", fontsize=20)\n",
    "        ax3.set_xlabel(\"Fraction of Nodes Removed\")\n",
    "        ax3.set_ylabel(\"|S1|/N\")\n",
    "       \n",
    "        for i, r in enumerate(cfg_results):\n",
    "            print r\n",
    "            ax3.scatter(fractions, r, c=colors[i], marker=markers[i])\n",
    "       \n",
    "        ax3.legend(attack_types)"
   ]
  },
  {
   "cell_type": "code",
   "execution_count": 14,
   "metadata": {
    "collapsed": false
   },
   "outputs": [
    {
     "ename": "TypeError",
     "evalue": "string indices must be integers, not str",
     "output_type": "error",
     "traceback": [
      "\u001b[1;31m---------------------------------------------------------------------------\u001b[0m",
      "\u001b[1;31mTypeError\u001b[0m                                 Traceback (most recent call last)",
      "\u001b[1;32m<ipython-input-14-808d287a8100>\u001b[0m in \u001b[0;36m<module>\u001b[1;34m()\u001b[0m\n\u001b[1;32m----> 1\u001b[1;33m \u001b[0mplot_network_comparisons\u001b[0m\u001b[1;33m(\u001b[0m\u001b[1;33m)\u001b[0m\u001b[1;33m\u001b[0m\u001b[0m\n\u001b[0m",
      "\u001b[1;32m<ipython-input-13-e6537310f452>\u001b[0m in \u001b[0;36mplot_network_comparisons\u001b[1;34m()\u001b[0m\n\u001b[0;32m      6\u001b[0m \u001b[1;33m\u001b[0m\u001b[0m\n\u001b[0;32m      7\u001b[0m     \u001b[1;32mfor\u001b[0m \u001b[0mnetwork\u001b[0m \u001b[1;32min\u001b[0m \u001b[0mos\u001b[0m\u001b[1;33m.\u001b[0m\u001b[0mlistdir\u001b[0m\u001b[1;33m(\u001b[0m\u001b[0mPICKLEJAR\u001b[0m\u001b[1;33m)\u001b[0m\u001b[1;33m:\u001b[0m\u001b[1;33m\u001b[0m\u001b[0m\n\u001b[1;32m----> 8\u001b[1;33m         \u001b[0mpfile\u001b[0m \u001b[1;33m=\u001b[0m \u001b[0mPICKLEJAR\u001b[0m \u001b[1;33m+\u001b[0m \u001b[0mnetwork\u001b[0m\u001b[1;33m[\u001b[0m\u001b[1;34m\"name\"\u001b[0m\u001b[1;33m]\u001b[0m\u001b[1;33m+\u001b[0m\u001b[1;34m\".pickle\"\u001b[0m\u001b[1;33m\u001b[0m\u001b[0m\n\u001b[0m\u001b[0;32m      9\u001b[0m \u001b[1;33m\u001b[0m\u001b[0m\n\u001b[0;32m     10\u001b[0m         \u001b[0mfi\u001b[0m \u001b[1;33m=\u001b[0m \u001b[0mopen\u001b[0m\u001b[1;33m(\u001b[0m\u001b[0mpfile\u001b[0m\u001b[1;33m,\u001b[0m \u001b[1;34m'r'\u001b[0m\u001b[1;33m)\u001b[0m\u001b[1;33m\u001b[0m\u001b[0m\n",
      "\u001b[1;31mTypeError\u001b[0m: string indices must be integers, not str"
     ]
    }
   ],
   "source": [
    "plot_network_comparisons(\"networks.yaml\")"
   ]
  },
  {
   "cell_type": "code",
   "execution_count": null,
   "metadata": {
    "collapsed": true
   },
   "outputs": [],
   "source": []
  }
 ],
 "metadata": {
  "kernelspec": {
   "display_name": "Python 2",
   "language": "python2",
   "name": "python2"
  },
  "language_info": {
   "codemirror_mode": {
    "name": "ipython",
    "version": 2
   },
   "file_extension": ".py",
   "mimetype": "text/x-python",
   "name": "python",
   "nbconvert_exporter": "python",
   "pygments_lexer": "ipython2",
   "version": "2.7.11"
  }
 },
 "nbformat": 4,
 "nbformat_minor": 0
}
